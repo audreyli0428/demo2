{
    "cells": [
        {
            "cell_type": "code",
            "execution_count": 1,
            "metadata": {},
            "outputs": [
                {
                    "data": {
                        "text/html": "<div>\n<style scoped>\n    .dataframe tbody tr th:only-of-type {\n        vertical-align: middle;\n    }\n\n    .dataframe tbody tr th {\n        vertical-align: top;\n    }\n\n    .dataframe thead th {\n        text-align: right;\n    }\n</style>\n<table border=\"1\" class=\"dataframe\">\n  <thead>\n    <tr style=\"text-align: right;\">\n      <th></th>\n      <th>Unnamed: 0</th>\n      <th>Unnamed: 1</th>\n      <th>Unnamed: 2</th>\n      <th>Unnamed: 3</th>\n      <th>Unnamed: 4</th>\n      <th>Unnamed: 5</th>\n      <th>Unnamed: 6</th>\n      <th>Unnamed: 7</th>\n      <th>Unnamed: 8</th>\n      <th>Unnamed: 9</th>\n      <th>Unnamed: 10</th>\n      <th>Unnamed: 11</th>\n      <th>Unnamed: 12</th>\n      <th>Unnamed: 13</th>\n      <th>Unnamed: 14</th>\n    </tr>\n  </thead>\n  <tbody>\n    <tr>\n      <th>0</th>\n      <td>NaN</td>\n      <td>NaN</td>\n      <td>NaN</td>\n      <td>NaN</td>\n      <td>NaN</td>\n      <td>NaN</td>\n      <td>NaN</td>\n      <td>NaN</td>\n      <td>NaN</td>\n      <td>NaN</td>\n      <td>NaN</td>\n      <td>NaN</td>\n      <td>NaN</td>\n      <td>NaN</td>\n      <td>NaN</td>\n    </tr>\n    <tr>\n      <th>1</th>\n      <td>\u52a0\u7e3d - Sales</td>\n      <td>Column Labels</td>\n      <td>NaN</td>\n      <td>NaN</td>\n      <td>NaN</td>\n      <td>NaN</td>\n      <td>NaN</td>\n      <td>NaN</td>\n      <td>NaN</td>\n      <td>NaN</td>\n      <td>NaN</td>\n      <td>NaN</td>\n      <td>NaN</td>\n      <td>NaN</td>\n      <td>NaN</td>\n    </tr>\n    <tr>\n      <th>2</th>\n      <td>Row Labels</td>\n      <td>Alberta</td>\n      <td>British Columbia</td>\n      <td>Manitoba</td>\n      <td>New Brunswick</td>\n      <td>Newfoundland</td>\n      <td>Northwest Territories</td>\n      <td>Nova Scotia</td>\n      <td>Nunavut</td>\n      <td>Ontario</td>\n      <td>Prince Edward Island</td>\n      <td>Quebec</td>\n      <td>Saskachewan</td>\n      <td>Yukon</td>\n      <td>Grand Total</td>\n    </tr>\n    <tr>\n      <th>3</th>\n      <td>Group1</td>\n      <td>1.70479e+06</td>\n      <td>1.89276e+06</td>\n      <td>1.37285e+06</td>\n      <td>684212</td>\n      <td>102924</td>\n      <td>800847</td>\n      <td>817729</td>\n      <td>116376</td>\n      <td>3.06321e+06</td>\n      <td>409383</td>\n      <td>1.5102e+06</td>\n      <td>1.46446e+06</td>\n      <td>975867</td>\n      <td>1.49156e+07</td>\n    </tr>\n    <tr>\n      <th>4</th>\n      <td>1/1/2009</td>\n      <td>NaN</td>\n      <td>NaN</td>\n      <td>NaN</td>\n      <td>NaN</td>\n      <td>NaN</td>\n      <td>NaN</td>\n      <td>NaN</td>\n      <td>NaN</td>\n      <td>180.36</td>\n      <td>NaN</td>\n      <td>872.48</td>\n      <td>NaN</td>\n      <td>NaN</td>\n      <td>1052.84</td>\n    </tr>\n  </tbody>\n</table>\n</div>",
                        "text/plain": "   Unnamed: 0     Unnamed: 1        Unnamed: 2   Unnamed: 3     Unnamed: 4  \\\n0         NaN            NaN               NaN          NaN            NaN   \n1  \u52a0\u7e3d - Sales  Column Labels               NaN          NaN            NaN   \n2  Row Labels        Alberta  British Columbia     Manitoba  New Brunswick   \n3      Group1    1.70479e+06       1.89276e+06  1.37285e+06         684212   \n4    1/1/2009            NaN               NaN          NaN            NaN   \n\n     Unnamed: 5             Unnamed: 6   Unnamed: 7 Unnamed: 8   Unnamed: 9  \\\n0           NaN                    NaN          NaN        NaN          NaN   \n1           NaN                    NaN          NaN        NaN          NaN   \n2  Newfoundland  Northwest Territories  Nova Scotia    Nunavut      Ontario   \n3        102924                 800847       817729     116376  3.06321e+06   \n4           NaN                    NaN          NaN        NaN       180.36   \n\n            Unnamed: 10 Unnamed: 11  Unnamed: 12 Unnamed: 13  Unnamed: 14  \n0                   NaN         NaN          NaN         NaN          NaN  \n1                   NaN         NaN          NaN         NaN          NaN  \n2  Prince Edward Island      Quebec  Saskachewan       Yukon  Grand Total  \n3                409383  1.5102e+06  1.46446e+06      975867  1.49156e+07  \n4                   NaN      872.48          NaN         NaN      1052.84  "
                    },
                    "execution_count": 1,
                    "metadata": {},
                    "output_type": "execute_result"
                }
            ],
            "source": "# The code was removed by Watson Studio for sharing."
        }
    ],
    "metadata": {
        "kernelspec": {
            "display_name": "Python 3.6",
            "language": "python",
            "name": "python3"
        },
        "language_info": {
            "codemirror_mode": {
                "name": "ipython",
                "version": 3
            },
            "file_extension": ".py",
            "mimetype": "text/x-python",
            "name": "python",
            "nbconvert_exporter": "python",
            "pygments_lexer": "ipython3",
            "version": "3.6.9"
        }
    },
    "nbformat": 4,
    "nbformat_minor": 1
}